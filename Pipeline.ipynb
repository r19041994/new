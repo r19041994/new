{
 "cells": [
  {
   "cell_type": "code",
   "execution_count": null,
   "id": "4280d8ba",
   "metadata": {},
   "outputs": [],
   "source": [
    "from glob import glob\n",
    "import cv2, os, shutil\n",
    "import numpy as np\n",
    "from tqdm import tqdm\n",
    "import pandas as pd\n",
    "from matplotlib import pyplot as plt\n",
    "import warnings\n",
    "warnings.filterwarnings(\"ignore\")"
   ]
  },
  {
   "cell_type": "code",
   "execution_count": null,
   "id": "c2334eee",
   "metadata": {},
   "outputs": [],
   "source": [
    "game_name = '2CTP'\n",
    "model_name = '02_gulyaz_blue_pony'\n",
    "project_id = 41\n",
    "dimensions = [500,200,1520,580]\n",
    "X, Y, W, H = dimensions"
   ]
  },
  {
   "cell_type": "code",
   "execution_count": null,
   "id": "971e5483",
   "metadata": {},
   "outputs": [],
   "source": [
    "folder = os.path.join(game_name, model_name)"
   ]
  },
  {
   "cell_type": "code",
   "execution_count": null,
   "id": "f036400e",
   "metadata": {},
   "outputs": [],
   "source": [
    "if (len(glob(os.path.join(folder, '**', '*.mp4'), recursive=True)) +\\\n",
    "    len(glob(os.path.join(folder, '**', '*.m4v'), recursive=True)) > 0):\n",
    "    files = glob(os.path.join(folder, '**', '*.mp4'), recursive=True) +\\\n",
    "            glob(os.path.join(folder, '**', '*.m4v'), recursive=True)"
   ]
  },
  {
   "cell_type": "code",
   "execution_count": null,
   "id": "fbb725b8",
   "metadata": {},
   "outputs": [],
   "source": [
    "def foo(file):\n",
    "    game_name, variation_name, *file_name = file.split(os.sep)\n",
    "    file_name = '_'.join(file_name)\n",
    "    cap = cv2.VideoCapture(file)\n",
    "    fps = cap.get(cv2.CAP_PROP_FPS)\n",
    "    cut = file_name.split('_')[0]\n",
    "    TARGET_DIR = os.path.join('uploads', f'{game_name}_{variation_name}')\n",
    "    os.makedirs(TARGET_DIR, exist_ok=True)\n",
    "    if cut not in ['leave']:\n",
    "        if cut == 'top':\n",
    "            cap = cv2.VideoCapture(file)\n",
    "            fourcc = cv2.VideoWriter_fourcc('m', 'p', '4', 'v')\n",
    "            out = cv2.VideoWriter(os.path.join(TARGET_DIR, file_name), fourcc, fps, (1920,1080))\n",
    "            while True:\n",
    "                ret, frame = cap.read()\n",
    "                if ret == True:\n",
    "                    out.write(frame)\n",
    "                else:\n",
    "                    break\n",
    "        else:\n",
    "            cap = cv2.VideoCapture(file)\n",
    "            fourcc = cv2.VideoWriter_fourcc('m', 'p', '4', 'v')\n",
    "            out = cv2.VideoWriter(os.path.join(TARGET_DIR, file_name), fourcc, fps, (W, H))\n",
    "            while True:\n",
    "                ret, frame = cap.read()\n",
    "                if ret == True:\n",
    "                    org_shape = frame.shape\n",
    "                    frame = frame[X:X+H, Y:Y+W]\n",
    "                    out.write(frame)\n",
    "                else:\n",
    "                    break\n",
    "            "
   ]
  },
  {
   "cell_type": "code",
   "execution_count": null,
   "id": "dedcf405",
   "metadata": {},
   "outputs": [],
   "source": [
    "for file in files:\n",
    "    print (file)\n",
    "    foo(file)\n",
    "    break"
   ]
  },
  {
   "cell_type": "code",
   "execution_count": null,
   "id": "0df48414",
   "metadata": {},
   "outputs": [],
   "source": [
    "variation_name = game_name + '_' + model_name\n",
    "folders = glob(os.path.join('uploads', variation_name))\n",
    "project_ids = {\n",
    "        variation_name: project_id\n",
    "}\n",
    "os.makedirs('excels', exist_ok=True)\n",
    "for folder in folders:\n",
    "    videos = sorted(glob(os.path.join(folder, '*.m4v'))) + sorted(glob(os.path.join(folder, '*.mp4')))\n",
    "    game_name = folder.split(os.sep)[1]\n",
    "    project_id = project_ids[variation_name]\n",
    "    l = []\n",
    "    for idx, video in enumerate(videos):\n",
    "        file_name = video.split(os.sep)[2]\n",
    "        print (file_name)\n",
    "        task_name = file_name.split('.')[0]\n",
    "        l.append(task_name)\n",
    "        os.system (f\"cvat-cli --server-host http://13.42.37.88 --server-port 8080 \\\n",
    "                    --auth django:django_admin create {task_name} \\\n",
    "                    --project_id {project_id} local {video}\")\n",
    "    pd.DataFrame(l).to_excel(os.path.join('excels', game_name, '.xlsx'), index=False)"
   ]
  },
  {
   "cell_type": "code",
   "execution_count": null,
   "id": "9896acd9",
   "metadata": {},
   "outputs": [],
   "source": []
  },
  {
   "cell_type": "code",
   "execution_count": null,
   "id": "ecb6099a",
   "metadata": {},
   "outputs": [],
   "source": []
  }
 ],
 "metadata": {
  "kernelspec": {
   "display_name": "Python 3 (ipykernel)",
   "language": "python",
   "name": "python3"
  },
  "language_info": {
   "codemirror_mode": {
    "name": "ipython",
    "version": 3
   },
   "file_extension": ".py",
   "mimetype": "text/x-python",
   "name": "python",
   "nbconvert_exporter": "python",
   "pygments_lexer": "ipython3",
   "version": "3.10.6"
  }
 },
 "nbformat": 4,
 "nbformat_minor": 5
}
